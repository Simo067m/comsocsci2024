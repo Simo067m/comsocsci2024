{
 "cells": [
  {
   "cell_type": "markdown",
   "metadata": {},
   "source": [
    "# Week 1\n",
    "\n",
    "## Overview\n",
    "\n",
    "As explained in the [*Before week 1* notebook](https://nbviewer.org/github/lalessan/comsocsci2024/blob/master/lectures/Before_week_1.ipynb), each week of this class is a Jupyter notebook like this one. **_In order to follow the class, you simply start reading from the top_**, following the instructions.\n",
    "\n",
    "**Hint**: You can ask me for help at any point if you get stuck!"
   ]
  },
  {
   "cell_type": "markdown",
   "metadata": {
    "collapsed": true,
    "jupyter": {
     "outputs_hidden": true
    }
   },
   "source": [
    "## Today\n",
    "\n",
    "This first lecture will go over a few different topics to get you started:\n",
    "\n",
    "* **Part 1:** You picked this course in **Computational Social Science** but... *What does that even mean??* The first thing we will do today is to learn a bit more about it by reading some chapters of the book and listen to a short lecture by me.\n",
    "\n",
    "* **Part 2:**  In the second part of this class, I will introduce you to **a topic we will work on for the rest of this course** and I will ask you to reflect upon it.\n",
    "\n",
    "* **Part 3:**  In the final part of this class, we will start working on something hands on. We will use **Web scraping** to gather some data. \n"
   ]
  },
  {
   "cell_type": "markdown",
   "metadata": {},
   "source": [
    "## Part 1: Intro to Computational Social Science\n",
    "\n",
    "\n",
    "*What is Computational Social Science?* In the video below, I will give you some answers. There will be a little bit of history, example of topics and datasets, an overview of the methods, and some reflections on the challenges faced by researchers, including in relation to Ethics and Privacy. "
   ]
  },
  {
   "cell_type": "markdown",
   "metadata": {},
   "source": [
    "\n",
    "> **_Video lecture_**: Watch the video below about Computational Social Science"
   ]
  },
  {
   "cell_type": "code",
   "execution_count": 2,
   "metadata": {
    "scrolled": true
   },
   "outputs": [
    {
     "data": {
      "image/jpeg": "[encoded data removed]",
      "text/html": [
       "\n",
       "        <iframe\n",
       "            width=\"600\"\n",
       "            height=\"337.5\"\n",
       "            src=\"https://www.youtube.com/embed/3dA1GYdSg-A\"\n",
       "            frameborder=\"0\"\n",
       "            allowfullscreen\n",
       "            \n",
       "        ></iframe>\n",
       "        "
      ],
      "text/plain": [
       "<IPython.lib.display.YouTubeVideo at 0x202ac80d330>"
      ]
     },
     "execution_count": 2,
     "metadata": {},
     "output_type": "execute_result"
    }
   ],
   "source": [
    "from IPython.display import YouTubeVideo\n",
    "YouTubeVideo(\"3dA1GYdSg-A\",width=600, height=337.5)\n"
   ]
  },
  {
   "cell_type": "markdown",
   "metadata": {},
   "source": [
    "In this course, we are going to read some parts of the amazing book by Matthew Salganik [\"_Bit By Bit: Social Research in the Digital Age_\"](https://www.bitbybitbook.com/). \n",
    "Salganik is a professor in Sociology at Princeton, and an active researcher in Computational Social Science. \n",
    "You can read the book online, but I encourage you to buy it. \n",
    "\n",
    "> *Reading*: [Bit by Bit, chapter 1](https://www.bitbybitbook.com/en/1st-ed/introduction/) Start by reading the Introduction of the book, where you will get you an understanding of the history of the field and the general framework.    \n",
    ">\n",
    " > *Reading 2*: [Bit by Bit, chapter 6](https://www.bitbybitbook.com/en/1st-ed/ethics/) Read the Ethics chapter of the book. Here, I don't expect you to read all the details. However, I want to make sure you get an overall understanding of the ethical challenges and some of the approaches that are used in the field to deal with these complex issues. You can focus on sections 6.4 and 6.6.    \n",
    ">\n",
    "> *Optional Reading*: [Computational Social Science](https://www.science.org/doi/pdf/10.1126/science.1167742). This is a crucial article written by some of the pioneers in Computational Social Science. The paper came out in 2009 in the prestigious scientific journal Science. People had already been working on using large-scale data and new computational tools to study society and behaviour, but the article is the first to acknowledge and describe this emerging field. I encourage you to read it or skim through it! "
   ]
  },
  {
   "cell_type": "markdown",
   "metadata": {},
   "source": [
    "> **Exercise 1 : Topics in Computational Social Science** By now, you must have a grasp of what Computational Social Science is about.\n",
    ">\n",
    "> - Work in pairs. Based on what you know so far, come up with three social science topics that you think it would be interesting and possible to work on using computational social science methods.\n",
    "> - Do you have an idea of the data that you could use for your research? Come up with one dataset for each of the topics you have identified (if you have any doubt you can talk to me).\n",
    "> - Go to [DTU Learn](https://learn.inside.dtu.dk/d2l/home/187754) and fill the Survey \"_Topics in Computational Social Science_\""
   ]
  },
  {
   "cell_type": "markdown",
   "metadata": {},
   "source": [
    "**Answer** <br>\n",
    "*Topics*\n",
    "1. Financial wealth based on political news consumption (how much engagement in politics)\n",
    "2. Education level based on social media usage\n",
    "3. Political opinion based on phone brand owned (fx apple vs samsung)\n",
    "\n",
    "*Data*\n",
    "\n",
    "1. Data collected from statistics of wealth distribution and survey or mobile data (fx news reading)\n",
    "2. Data collected of educational level statistics and a surver or mobile data (fx screen time or cookies)\n",
    "3. Data from a survey and possibly compare with data from social media precense"
   ]
  },
  {
   "cell_type": "markdown",
   "metadata": {},
   "source": [
    "## Part 2 : A topic we will work on for the rest of this course\n",
    " \n",
    "\n",
    "All right so, as I promised this course will be very hands-on. We will learn some of the methods and modelling approaches used in Computational Social Science and we will put this learning into practice.\n",
    "The way we will do it is that we will apply the methods we learn to study a specific topic throughout the rest of this course.\n",
    "\n",
    "In this video, I will explain to you what the whole project will be about. Ready? Watch the video below!"
   ]
  },
  {
   "cell_type": "markdown",
   "metadata": {},
   "source": [
    "\n",
    "> **_Video lecture_**: Watch the video below\n",
    "    "
   ]
  },
  {
   "cell_type": "code",
   "execution_count": 3,
   "metadata": {},
   "outputs": [
    {
     "data": {
      "image/jpeg": "[encoded data removed]",
      "text/html": [
       "\n",
       "        <iframe\n",
       "            width=\"600\"\n",
       "            height=\"337.5\"\n",
       "            src=\"https://www.youtube.com/embed/uEJltY5Pv1U\"\n",
       "            frameborder=\"0\"\n",
       "            allowfullscreen\n",
       "            \n",
       "        ></iframe>\n",
       "        "
      ],
      "text/plain": [
       "<IPython.lib.display.YouTubeVideo at 0x202adc2a350>"
      ]
     },
     "execution_count": 3,
     "metadata": {},
     "output_type": "execute_result"
    }
   ],
   "source": [
    "from IPython.display import YouTubeVideo\n",
    "YouTubeVideo(\"uEJltY5Pv1U\",width=600, height=337.5)\n"
   ]
  },
  {
   "cell_type": "markdown",
   "metadata": {},
   "source": [
    "> **Exercise 2 : Understanding the field Computational Social Science in a data-driven way**    \n",
    "> In the following of this course, we will do a meta-study on the field of Computational Social Science. \n",
    "> We will start by gathering data on Computational Social Science researchers, their interactions, and their scientific production. \n",
    "> - Work in pairs. Discuss possible data sources that you could collect to address our research question. \n",
    "> - Which dataset(s) would you collect?\n",
    "> - How would you practically collect it? \n",
    "> - What are some limitations of your data? \n",
    "> - Go to [DTU Learn](https://learn.inside.dtu.dk/d2l/home/187754) and fill the Survey \"_Data for Computational Social Science_\"\n",
    ">\n",
    ">\n",
    "> Remember that in this exercise, there is not a single correct answer. There could be multiple ways to gather data, and different data sources could shed lights on different aspects of scientists' works and interactions."
   ]
  },
  {
   "cell_type": "markdown",
   "metadata": {},
   "source": [
    "**Answer**\n",
    "- Possible data sources: Research paper authors and inter-paper references. Subcategories of CSS studies and how much they overlap.\n",
    "- Which datasets: I would collect author names of research papers as well as \"Referenced by\" data from these same research papers. Also collect the title and abstracts of the papers.\n",
    "- How would you practically collect it: Scrape data from a publisher or research paper site and either categorize for CSS or find a magazine which specializes in CSS.\n",
    "- Limitations of the data: Authors on research papers are not necessarily guaranteed to be only computational social scientists, and references can be made from papers that are not CSS research papers as well. The subject of a paper can be very difficult to infer automatically from simply the title or the abstract."
   ]
  },
  {
   "cell_type": "markdown",
   "metadata": {},
   "source": [
    "## Prelude to part 3:  Basic HTML\n",
    "\n",
    "In the final part of this class, we will talk about web-scraping. \n",
    "For web-scraping, you need a little bit of knowledge about the structure of web-pages.\n",
    "The standard way to write web-bages is to use a language called HTML. \n",
    "\n",
    "**Useful tutorial:**  If you are not familiar with HTML, I recommend [reading this tutorial](https://www.internetingishard.com/html-and-css/basic-web-pages).\n",
    "\n",
    "**Useful resource:** HTML pages are built in a hierarchical structure and are composed of elements such as tables, titles, paragraphs, sections, etc. A complete list of HTML elements can be found [here](https://developer.mozilla.org/en-US/docs/Web/HTML/Element)."
   ]
  },
  {
   "cell_type": "markdown",
   "metadata": {},
   "source": [
    "## Part 3: Using web-scraping to gather data.\n",
    "\n",
    "All right, so now it's really time to start working on something a bit hands-on. \n",
    "The first thing we need to do is indeed to get DATA. \n",
    "As I said a few times by now, in this class we will do things from scratch. \n",
    "One of the ways to gather data from the web is to use web-scraping, which basically means getting information directly from web-pages. \n",
    "In the video below, I will give a brief overview on how to web-scrape web pages. \n"
   ]
  },
  {
   "cell_type": "markdown",
   "metadata": {},
   "source": [
    "> **_Video lecture_**: Watch the video below about web scraping (you can find [here the notebook that I use in the video](https://nbviewer.org/github/lalessan/comsocsci2023/blob/master/additional_notebooks/ScreenScraping.ipynb)"
   ]
  },
  {
   "cell_type": "code",
   "execution_count": 4,
   "metadata": {},
   "outputs": [
    {
     "data": {
      "image/jpeg": "[encoded data removed]",
      "text/html": [
       "\n",
       "        <iframe\n",
       "            width=\"600\"\n",
       "            height=\"337.5\"\n",
       "            src=\"https://www.youtube.com/embed/nK_d0UQp4cE\"\n",
       "            frameborder=\"0\"\n",
       "            allowfullscreen\n",
       "            \n",
       "        ></iframe>\n",
       "        "
      ],
      "text/plain": [
       "<IPython.lib.display.YouTubeVideo at 0x202aca5cd00>"
      ]
     },
     "execution_count": 4,
     "metadata": {},
     "output_type": "execute_result"
    }
   ],
   "source": [
    "from IPython.display import YouTubeVideo\n",
    "YouTubeVideo(\"nK_d0UQp4cE\",width=600, height=337.5)\n"
   ]
  },
  {
   "cell_type": "markdown",
   "metadata": {},
   "source": [
    "> **Exercise 3 : Web-scraping the list of participants to the International Conference in Computational Social Science**    \n",
    "> It's time to put things into practice. Remember that our goal will be to gather a dataset describing Computational Social Scientists and their work. As we have discussed, the field of Computational Social Science is loosely defined. To gather data, we will start from the list of researchers that have joined the most important scientific conference in Computational Social Science in 2023. The conference is called International Conference in Computational Social Science (*IC2S2* in short). The assumption here is that the scientists who contribute to this conference are at the core of the field of Computational Social Science.    \n",
    ">\n",
    ">\n",
    "> You can find the programme of the 2023 edition of the conference at [this link](https://ic2s2-2023.org/program). As you can see the conference programme included many different contributions: keynote presentations, parallel talks, tutorials, posters. \n",
    "> 1. Inspect the HTML of the page and use web-scraping to get the names of all researchers that contributed to the conference in 2023. The goal is the following: (i) get as many names as possible including: keynote speakers, chairs, authors of parallel talks and authors of posters; (ii) ensure that the collected names are complete and accuarate as reported in the website (e.g. both first name and family name); (iii) ensure that no name is repeated multiple times with slightly different spelling. \n",
    "> 2. Some instructions for success: \n",
    ">    * First, inspect the page through your web browser to identify the elements of the page that you want to collect. Ensure you understand the hierarchical structure of the page, and where the elements you are interested in are located within this nested structure.   \n",
    ">    * Use the [BeautifulSoup Python package](https://pypi.org/project/beautifulsoup4/) to navigate through the hierarchy and extract the elements you need from the page. \n",
    ">    * You can use the [find_all](https://www.crummy.com/software/BeautifulSoup/bs4/doc/#find-all) method to find elements that match specific filters. Check the [documentation](https://www.crummy.com/software/BeautifulSoup/bs4/doc/) of the library for detailed explanations on how to set filters.  \n",
    ">    * Parse the strings to ensure that you retrieve \"clean\" author names (e.g. remove commas, or other unwanted charachters)\n",
    ">    * The overall idea is to adapt the procedure I have used [here](https://nbviewer.org/github/lalessan/comsocsci2023/blob/master/additional_notebooks/ScreenScraping.ipynb) for the specific page you are scraping. \n",
    "> 3. Create the set of unique researchers that joined the conference and store it into a file.\n",
    ">     * *Important:* If you notice any issue with the list of names you have collected (e.g. duplicate/incorrect names), come up with a strategy to clean your list as much as possible. \n",
    "> 5. *Optional:* For a more complete represenation of the field, include in your list: (i) the names of researchers from the programme committee of the conference, that can be found at [this link](https://ic2s2-2023.org/program_committee); (ii) the organizers of tutorials, that can be found at [this link](https://ic2s2-2023.org/tutorials)\n",
    "> 6. Go to [DTU Learn](https://learn.inside.dtu.dk/d2l/home/187754) and fill the Survey \"_Web Scraping_\"\n",
    "> 7. How many unique researchers do you get?\n",
    "> 8. Explain the process you followed to web-scrape the page. Which choices did you make to accurately retreive as many names as possible? Which strategies did you use to assess the quality of your final list? Explain your reasoning and your choices. \n",
    "\n"
   ]
  },
  {
   "cell_type": "code",
   "execution_count": 5,
   "metadata": {},
   "outputs": [],
   "source": [
    "# Import packages\n",
    "import requests\n",
    "from bs4 import BeautifulSoup"
   ]
  },
  {
   "cell_type": "code",
   "execution_count": 6,
   "metadata": {},
   "outputs": [],
   "source": [
    "# Define variables and collect content\n",
    "LINK = \"https://ic2s2-2023.org/program\"\n",
    "r = requests.get(LINK)\n",
    "soup = BeautifulSoup(r.content)"
   ]
  },
  {
   "cell_type": "code",
   "execution_count": 7,
   "metadata": {},
   "outputs": [],
   "source": [
    "# Find all the names from the top table\n",
    "names = []\n",
    "# Find all the table rows\n",
    "table = soup.find(\"table\", class_=\"summary\")\n",
    "table_rows = soup.find_all(\"tr\")\n",
    "for tr in table_rows:\n",
    "    tds = tr.find_all(\"td\")\n",
    "    for row in tds:\n",
    "        a = row.find_all(\"a\")\n",
    "        for text in a:\n",
    "            text_content = text.text\n",
    "            if (\"Keynote\" in text_content):\n",
    "                text_split = text_content.split(\"-\")\n",
    "                stripped = text_split[1].strip()\n",
    "                if (stripped not in names):\n",
    "                    names.append(stripped)"
   ]
  },
  {
   "cell_type": "code",
   "execution_count": 8,
   "metadata": {},
   "outputs": [],
   "source": [
    "# Find all the names from the bottom lists\n",
    "# Find all the unordered lists\n",
    "ul = soup.find_all(\"ul\", class_=\"nav_list\")\n",
    "# Find all the list elements\n",
    "for list in ul:\n",
    "    found_names = list.find_all(\"i\")\n",
    "    # For every found name line, seperate into individual names\n",
    "    for name in found_names:\n",
    "        found_names_seperated = name.text.split(\", \")\n",
    "        for seperated_name in found_names_seperated:\n",
    "            if (seperated_name.strip() not in names):\n",
    "                names.append(seperated_name.strip())"
   ]
  },
  {
   "cell_type": "code",
   "execution_count": 9,
   "metadata": {},
   "outputs": [
    {
     "name": "stdout",
     "output_type": "stream",
     "text": [
      "1491\n",
      "['Jevin West', 'Linda Steg', 'Sharad Goel', 'Molly Crockett', 'Lisa Anne Hendriks', 'Stefan Gössling', 'Joanna Bryson', 'Tim Althoff', 'Lauren Brent', 'Esteban Moro', 'Jonas L Juul', 'Jon Kleinberg', 'Chloe Ahn', 'Xinyi Wang', 'Giuseppe Russo', 'luca verginer', 'Manoel Horta Ribeiro', 'Giona Casiraghi', 'Almog Simchon', 'Adam Sutton', 'Matthew Edwards', 'Stephan Lewandowsky', 'Arianna Pera', 'Manuel Vimercati', 'Matteo Palmonari', 'Mohammed Alsobay', 'Abdullah Almaatouq', 'David G. Rand', 'Duncan J. Watts', 'Sara Venturini', 'Satyaki Sikdar', 'Francesco Rinaldi', 'Francesco Tudisco', 'Santo Fortunato', 'Isabella Loaiza', 'Takahiro Yabe', 'Alex Pentland', 'Silvia De Sojo Caso', 'Mia Ann Jørgensen', 'Sune Lehmann', 'Laura Alessandretti', 'Emil Bakkensen Johansen', 'Mathias Wullum Nielsen', 'Rubén Rodríguez Casañ', 'Antonio Ariño Villarroya', 'Sunny Rai', 'Ashley Francisco', 'Salvatore Giorgi', 'Brenda Curtis', 'Lyle Ungar', 'Sharath Chandra Guntuku', 'Allison Koenecke', 'Eric Giannella', 'Robb Willer', 'Ziv Epstein', 'Hause Lin', 'Levin Brinkmann', 'Bramantyo Supriyatno', 'Iyad Rahwan', 'Sandro Ferreira Sousa', 'Vincenzo Nicosia', 'Marilena Hohmann', 'Michele Coscia', 'Tiancheng Hu', 'Yara Kyrychenko', 'Sander van der Linden', 'Jon Roozenbeek', 'Nikolaos Nakis', 'Abdulkadir Celikkanat', 'Louis Boucherie', 'Morten Mørup', 'Corrado Monti', \"Jacopo D'Ignazi\", 'Michele Starnini', 'Gianmarco De Francisci Morales', 'Homa Hosseinmardi', 'Sam Wolken', 'David Rothschild', 'Duncan Watts', 'Li Zhang', 'Isabelle Lorge', 'Janet B. Pierrehumbert', 'Xiaowen Dong', 'Melanie Oyarzun', 'Carlos Rodriguez-Sickert', 'Cristian E Candia', 'Bernardo Garcia Bulle Bueno', 'Morgan Ryan Frank', 'Dingeman Jan Van der Laan', 'Edwin De Jonge', 'Marjolijn Das', 'Veniamin Veselovsky', 'Robert West', 'Mark E Whiting', 'Duncan J Watts', 'Marc Sadurní Parera', 'Josep Perelló', 'Miquel Montero', 'Jamell Dacon', 'Jiliang Tang', 'Minsu Park', 'Chao Yu', 'Michael Macy', 'Kat Albrecht', 'Nicola Fanton', 'Agnieszka Falenska', 'Michael Roth', 'Zeyneb Nahide Kaya', 'Alexandra Segerberg', 'Matteo Magnani', 'Damian Trilling', 'Roeland Dubèl', 'Rupert Kiddle', 'Anne C. Kroon', 'Zilin Lin', 'Mónika Simon', 'Susan Vermeer', 'Kasper Welbers', 'Mark Boukes', 'Sanjay Kairam', 'Sukankana Chakraborty', 'Leonardo Castro-Gonzalez', 'Helen Margetts', 'Jonathan Bright', 'Helena Sophia Rauxloh', 'Lisa Merten', 'Heidi Schulze', 'Judith Moeller', 'Isabel Lerch', 'Dylan Thurgood', 'Sebastian Stier', 'Ardon Z. Shorr', 'Dafna Yavetz', 'Simon Martin Breum', 'Bojan Kostic', 'Michael Szell', 'Zhuangyuan Fan', 'Becky P.Y. Loo', 'Ting Lian', 'Feiyang Zhang', 'Massimiliano Luca', 'Bruno Lepri', 'Antonio Bucchiarone', 'Annapaola Marconi', 'Simone Centellegher', 'Laura Maria Alessandretti', 'Surendra Hazarie', 'Hugo Barbosa', 'Adam Frank', 'Ronaldo Menezes', 'Gourab Ghoshal', 'Henrik Wolf', 'Ane Rahbek Vierø', 'Nicole Nisbett', 'Viktoria Spaiser', 'Kelton R Minor', 'Nick Obradovich', 'Hannah-Marie Büttner', 'Hendrik Meyer', 'Patrick Zerrer', 'Max Falkenberg', 'Andrea Baronchelli', 'Giorgio Tripodi', 'Francesco Lamperti', 'Andrea mina', 'Fabrizio Lillo', 'Roberto Mavilia', 'Francesca Chiaromonte', 'Kristoffer Lind Glavind', 'Aaron J. Schwartz', 'Christopher Danforth', 'Andreas Bjerre-Nielsen', 'Michele Tizzani', 'Daniela Paolotti', 'Pietro Coletti', 'Alessandro De Gaetano', 'Christopher I Jarvis', 'Amy Gimma', 'Kerry Wong', 'John W Edmunds', 'Philippe Beutels', 'Niel Hens', 'Julia Koltai', 'Adam Stefkovics', 'Anna Sara Ligeti', 'Marcin Waniek', 'Petter Holme', 'Katayoun Farrahi', 'Remi Emonet', 'Manuel Cebrian', 'Talal Rahwan', 'Lorenzo Amir Nemati Fard', 'Michele Tizzoni', 'Daniela Perrotta', 'Nicola Perra', 'Nicolò Gozzi', 'Paolo Bajardi', 'Ryota Kobayashi', 'Yuka Takedomi', 'Yuri Nakayama', 'Towa Suda', 'Takeaki Uno', 'Takako Hashimoto', 'Masashi Toyoda', 'Naoki Yoshinaga', 'Masaru Kitsuregawa', 'Luis E C Rocha', 'Katie Spoon', 'Isabelle Langrock', 'Jack LaViolette', 'Marcelo Silva', 'Kristina Gligoric', 'Tiziano Piccardi', 'Jake M. Hofman', 'Renzhe Yu', 'Sky CH-Wang', 'Zhen Xu', 'Zhuojian Wei', 'Nalette Brodnax', 'Keyu Zhu', 'Nabeel Gillani', 'Pascal Van Hentenryck', 'Mariana Macedo', 'Cesar A Hidalgo', 'Juniper L Lovato', 'Laurent Hebert-Dufresne', 'Jonathan St-Onge', 'Randall Harp', 'Gabriela Salazar Lopez', 'Sean P. Rogers', 'Ijaz Ul Haq', 'Jeremiah Onaolapo', 'Guangnan Zhu', 'Kateryna Kasianenko', 'Shima Saniei', 'Uttama Barua', 'George Gyamfi', 'Jana Lasser', 'Segun Aroyehun', 'Fabio Carella', 'David Garcia', 'Ruth Elisabeth Appel', 'Jennifer Pan', 'Margaret Roberts', 'Bao Tran Truong', 'Xiaodan Lou', 'Alessandro Flammini', 'Filippo Menczer', 'Jason C Coronel', 'Matthew Donald Sweitzer', 'Shannon Poulsen', 'Yuanmo He', 'Milena Tsvetkova', 'Kathyrn Fair', 'Omar Guerrero', 'Gerardo Iñiguez', 'Sara Heydari', 'János Kertész', 'Jari Saramäki', 'Johanna Einsiedler', 'Nikolaj Arpe Harmon', 'David Dreyer Lassen', 'Jolien Cremers', 'Alexander J Gates', 'Alice Grishchenko', 'Ana Macanovic', 'Sam Zhang', 'Ashton Anderson', 'Ali Faqeeh', 'Letizia Iannucci', 'Ted Hsuan Yun Chen', 'Mikko Kivelä', 'Ali Salloum', 'Christian Staal Bruun Overgaard', 'Josephine Lukito', 'Kaiya Soorholtz', 'Fatima Alqabandi', 'Eckehard Olbrich', 'Sven Banisch', 'Armin Pournaki', 'Felix Gaisbauer', 'Bradley Spahn', 'Sahil Verma', 'Pedro Ramaciotti Morales', 'Yuta Tomokiyo', 'Kimitaka Asatani', 'Kunihiro Miyazaki', 'Fujio Toriumi', 'Ichiro Sakata', 'Matija Franklin', 'Trisevgeni Papakonstantinou', 'Tianshu Chen', 'Carlos Fernandez-Basso', 'David Lagnado', 'Sahar Baribi-Bartov', 'Briony Swire-Thompson', 'Nir Grinberg', 'Ohhyun Kwon', 'Damin Lee', 'Inho Hong', 'Jaehyuk Park', 'Hyejin Youn', 'Woo-Sung Jung', 'Federico Delussu', 'Laetitia Gauvin', 'Lorenzo Lucchini', 'Marco Tonin', 'Marco De Nadai', 'David Mingfei Liu', 'Nandini Iyer', \"Lorenzo Dall'Amico\", 'Onicio Leal', 'Lonjezo Dzekedzeke', 'Beverly Laher', 'Guilherme Lichand', 'Ciro Cattuto', 'Anna Sapienza', 'Alessandra Urbinati', 'Salvatore Vilella', 'Roland Toth', 'Christian Strippel', 'Marita Lítlá', 'Irena Đorđević', 'David Joachim Grüning', 'Frederik Riedel', 'Philipp Lorenz-Spreen', 'Chia-Jung Tsai', 'Robert Gordon Rinderknecht', 'Emilio Zagheni', 'Wojtek Przepiorka', 'Vincent Buskens', 'Maren Schuster', 'Felix Victor Münch', 'Aymeric Luneau', 'Jean-Philippe Cointet', 'Yuan Zhang', 'Pu Yan', 'Ralph Schroeder', 'Akira Matsui', 'Taichi Murayama', 'Martin Gerlach', 'Emilio Ferrara', 'Patrick Gildersleve', 'Akhil Arora', 'Ivan Smirnov', 'Camelia Oprea', 'Markus Strohmaier', 'Shreya Havaldar', 'Thomas Talhelm', 'James Calum Young', 'Hywel T.P. Williams', 'Rudy Arthur', 'Camille Landesvatter', 'Paul C. Bauer', 'Hang Jiang', 'Xiajie Zhang', 'Xubo Cao', 'Jad Kabbara', 'Lucio La Cava', 'Andrea Tagarelli', 'Luca Maria Aiello', 'Anubhab Das', 'Sanja Scepanovic', 'Ozgur Can Seckin', 'Onur Varol', 'Marie-Laure Charpignon', 'Sagar Kumar', 'Maimuna S Majumder', 'Roberta Sinatra', 'Yanmeng Xing', 'Suman Maity', 'Stefan Wuchty', 'Dashun Wang', 'Jan Bachmann', 'Lisette Espin-Noboa', 'Fariba Karimi', 'Claudia Acciai', 'Benjamin C Holding', 'Jesper Wiborg Schneider', 'Francesco Bonchi', 'Subhayan Mukerjee', 'Tian Yang', 'Yilang Peng', 'Mengjie Cheng', 'Shunyuan Zhang', 'Makoto Mizuno', 'Hiroki Takikawa', 'Tina Law', 'Em Bello-Pardo', 'Natalie McDaniel Gallagher', 'Zoltan Kmetty', 'Julia Szamely', 'Dongning Deng', 'Kellner Aniko', 'Edit Paulo', 'Elisa Omodei', 'James Michelson', 'Miruna Cotet', 'Wenjia Zhao', 'Ian Krajbich', 'Seongwoon Kim', 'Sonja Walter', 'Edward Lee', 'Alan Paul Kwan', 'Anjali Bhatt', 'Rudolf Hanel', 'Frank Neffke', 'Hirokazu Shirado', 'Shunichi Kasahara', 'Nicholas A Christakis', 'Luis M Rocha', 'Rion Brattig Correia', 'Alain Barrat', 'Sebastiano Bontorin', 'Riccardo Gallotti', 'Luca Pappalardo', 'Manlio De Domenico', 'Qingtao Cao', 'Babak Heydari', 'Giovanni Mauro', 'Antonio Longa', 'Maddalena Conte', 'Nail Furkan Bashan', 'Qi Wang', 'Kishore Vasan', 'Xinlan Emily Hu', 'Linnea Gandhi', 'Lillio Mok', 'Lu Sun', 'Shilad Sen', 'Bahareh Sarrafzadeh', 'James P Houghton', 'Yuzuki Takahashi', 'Hayato Misumi', 'Mikiko Shimaoka', 'Tomomi Kito', 'Tzu-Chi Yen', 'Kate L. Wootton', 'Aaron Clauset', 'Daniel Larremore', 'Ezequiel Lopez Lopez', 'Stefan M. Herzog', 'Ke Zhou', 'Daniele Quercia', 'Wanqi Hu', 'Xinran Wang', 'Yunhao Yuan', 'Koustuv Saha', 'Barbara Keller', 'Erkki Tapio Isometsä', 'Talayeh Aledavood', 'Artem Kuriksha', 'Priyanka Goonetilleke', 'Anastasia Karpova', 'Peter Meylakhs', 'Sebastian Mildiner Moraga', 'Fionneke M Bos', 'Bennard Doornbos', 'Richard Bruggeman', 'Lian van der Krieke', 'Evelien Snippe', 'Emmeke Aarts', 'Elizaveta Sivak', 'Malvina Nissim', 'Gert Stulp', 'Frederik Andersen', 'Pantelis P. Analytis', 'Diana Verdes', 'Kristian Peter Lorenzen', 'Julian Berger', 'Ralf Kurvers', 'Elias Najarro', 'Claire Glanois', 'Louisa Jane Di Felice', 'Djordje Grbic', 'Meysam Alizadeh', 'Darya Zare', 'Mohammadhadi Aliahmadi', 'Mael Kubli', 'Sarvenaz Ebrahimi', 'Fabrizio Gilardi', 'Jaime Pérez', 'Edmond Awad', 'Gregorio López', 'Mario Castro', 'Daniel Valdenegro', 'Charles Rahal', 'Joel Harrison Suss', 'Dylan Connor', 'Tom Kemeny', 'Junsol Kim', 'Byungkyu Lee', 'Erkan Gunes', 'Christoffer Koch Florczak', 'Vasanth Sarathy', 'Sonja M Schmer-Galunder', 'Dan Thomsen', 'Laurel Bobrow', 'Richard Freedman', 'Marios Constantinides', 'Zachary Pangan', 'Eiji Aramaki', 'Shoko Wakamiya', 'Kongmeng Liew', 'Shuntaro Yada', 'Wan Jou She', 'Alessandro Gambetti', 'Qiwei Han', 'Rupert Tibor Kiddle', 'Anne Kroon', 'Satoshi Tohda', 'Regina Widjaya', 'Galen Stocking', 'Aaron Smith', 'Amin Mekacher', 'Luca Verginer', 'Fengyuan Michael Liu', 'Bedoor Alshebli', 'Sylvain Fontaine', 'Floriana Gargiulo', 'Michel Dubois', 'Paola Tubaro', 'Jose Miguel Cordova', 'Emoke-Agnes Horvat', 'Daniel Romero', 'Aliakbar Akbaritabar', 'Andres F. Castro Torres', 'Vincent Lariviere', 'Cassidy R. Sugimoto', 'Erin Walk', 'Nicholas LaBerge', 'Indrajeet Patil', 'Erez Yoeli', 'Zoe K. Rahwan', 'Elohim Fonseca dos Reis', 'Alex Teytelboym', 'Abeer ElBahrawy', 'Ella Clement', 'Alejandro Beltran', 'Kathyrn R Fair', 'Sebastian Steffen', 'Nikolitsa Grigoropoulou', 'Mario L. Small', 'Tom Theile', 'Carlos Callejo Penalba', 'Kiran Garimella', 'Ingmar Weber', 'Lavinia Rossi Mori', 'Vittorio Loreto', 'Riccardo Di Clemente', 'Erick Elejalde', 'Victor Navarro', 'Loreto Bravo', 'Leo Ferres', 'Francisco Barreras', 'Bethany Hsiao', 'Yuan Liao', 'Jorge Gil', 'Sonia Yeh', 'Christoph Benedikt Gote', 'Laurence Brandenberger', 'Sophia Johanna Schlosser', 'Frank Schweitzer', 'Niklas Stoehr', 'Benjamin J Radford', 'Ryan Cotterell', 'Aaron Schein', 'Rémi Perrier', 'Laura Hernandez', 'Mariano Gastón Beiró', 'José Ignacio Alvarez-Hamelin', 'Dimitris Kotzinos', 'Kayla Duskin', 'Kristen Engel', 'Emma Spiro', 'Victoria Yantseva', 'Davide Vega', 'Dylan Paltra', 'Felix Schmidt', 'Marius Sältzer', 'Lena Masch', 'Vincent Straub', 'Jason Burton', 'Michael Geers', 'Hao Cui', 'Jia Lin Cheoh', 'Sabine Brunswicker', 'Hammaad Adam', 'Fan Yin', 'Mary Hu', 'Neil A. Tenenholtz', 'Lorin Crawford', 'Lester Mackey', 'Amir Ghasemian', 'Miguel Rivera-Lanas', 'Manoel Ribeiro', 'Martin Hilbert', 'Arti Thakur', 'Angelita Repetto', 'Akira Hashimoto', 'Sho Tsugawa', 'Keiichiro Tsukamoto', 'Shintaro Igari', 'Anne Cathrine Linder', 'David Lusseau', 'Diogo Pacheco', 'Jonas Alexander Havstein Eriksen', 'Valentina Semenova', 'Julian Winkler', 'Nicholas Buttrick', 'Mariano Gaston Beiro', 'Kyriaki Kalimeri', 'Spencer Poodiack Parsons', 'Brennan Klein', 'Tobias Felix Werner', 'Nils Christopher Köbis', 'Zoe Rahwan', 'Tamer Ajaj', 'Clara Bersch', 'Eric Dignum', 'Quinn Lanners', 'Harsh Parikh', 'Cynthia Rudin', 'Alexander Volfovsky', 'David Page', 'Amy Smith', 'Hope Schroeder', 'Michael Cook', 'Simon Colton', 'Andrew Lippman', 'Nicolò Pagan', 'Joachim Baumann', 'Ezzat Elokda', 'Giulia De Pasquale', 'Saverio Bolognani', 'Anikó Hannák', 'Jan Engler', 'Sandipan Sikdar', 'Marlene Lutz', 'Maria Sahakyan', 'Bedoor AlShebli', 'Ceren Budak', 'Natalie J. Stroud', 'Ashley Muddiman', 'Caroline C. Murray', 'Yujin Kim', 'Yoshi Meke Bird', 'Sarah Grobe', 'Dilrukshi Gamage', 'Kazutoshi Sasahara', 'Emily L Wang', 'Luca Luceri', 'Francesco Pierri', 'Andrew Beers', 'Antonio Desiderio', 'Anna Mancini', 'Giulio Cimini', 'Sadamori Kojaku', 'Robert Mahari', 'Sandro Lera', 'Yong-Yeol Ahn', 'Maciej J. Dańko', 'Xinyi Zhao', 'Aditi Dutta', 'Chico Q Camargo', 'Susan Banducci', 'Yurie Iwata', 'Takahiro Miura', 'Yingxuan Liu', 'Paulina Pankowska', 'Tom Emery', 'Adrienne Mendrik', 'Javier Ureña Carrion', 'Christian L Vestergaard', 'Mathieu Génois', 'Márton Karsai', 'Taro Takaguchi', 'Eugenio Valdano', 'Radosław Michalski', 'Damian Serwata', 'Mateusz Nurek', 'Boleslaw K. Szymanski', 'Przemyslaw Kazienko', 'Tao Jia', 'Shahar Somin', 'Yaniv Altshuler', 'Erez Shmueli', 'Samin Aref', 'Hriday Chheda', 'Mahdi Mostajabdaveh', 'Pietro Alessandro Aluffi', 'Léo Meynent', 'Clemens Stachl', 'Thomas Louf', 'David Sanchez', 'Jose Javier Ramasco', 'Marton Karsai', 'Tessa Masis', 'Chloe Eggleston', 'Lisa Green', 'Taylor Jones', 'Meghan Armstrong', \"Brendan O'Connor\", 'Federico Barrera Lemarchand', 'Laura Victoria Lescano', 'Julieta Ruiz', 'Nuria Caceres', 'Facundo Carrillo', 'Mariano Sigman', 'Joaquín Navajas', 'Mahasweta Chakraborti', 'Stefan Stanciulescu', 'Vladimir Filkov', 'Seth Frey', 'Dustin Wright', 'Jiaxin Pei', 'David Jurgens', 'Isabelle Augenstein', 'Wentao Xu', 'Bin Wang', 'Jianxun Chu', 'Miriam Hurtado Bodell', 'Anastasia Menshikova', 'Ranadheer Malla', 'Ana Julia Bonzanini Bernardi', 'Isabela Inês', 'Rodger Richer', 'Camila Tsuzuki', 'Beatrice Bonami', 'Nicolò Alessandro Girardini', 'Andrea Passerini', 'Ivano Bison', 'Fausto Giunchiglia', 'Christian Czymara', 'Frank van Tubergen', 'Daniele Gambetta', 'Roberta Rocca', 'Kristian Tylén', 'Federico Zimmerman', 'Lucía Pedraza', 'Pablo Balenzuela', 'Jonathan Cohen', 'Leonardo Rosado', 'Marco Pangallo', 'Matthew Bramwell Bone', 'Xindi Wang', 'Magnus Resch', 'Albert-Laszlo Barabasi', 'Tara Sowrirajan', 'Ryan Whalen', 'Sourav Medya', 'Brian Uzzi', 'Luisa Carrer', 'Lorenzo De Masi', 'Vjosa Preniqi', 'Andreas Kaltenbrunner', 'Charalampos Saitis', 'Ole Teutloff', 'Otto Kässi', 'Eliza Stenzhorn', 'Douglas Richard Guilbeault', 'Martin Arvidsson', 'Marc Keuschnigg', 'Matthew Sharpe', 'Sandor Juhasz', 'Eddie Rossi', 'Marco Agnolon', 'Bruno Zamengo', 'Francesco Silvestri', 'Alice Battiston', 'Rossano Schifanella', 'Andrew Renninger', 'Blas Kolic', 'Manuel Tonneau', 'Haaya Naushan', 'Eaman Jahani', 'Karim Lasri', 'Niyati Malhotra', 'Victor Hugo Orozco-Olvera', 'Samuel Fraiberger', 'Ming-Hung Wang', 'Jia-Ru Song', 'Yu-Yao Tseng', 'Alina Herderich', 'Joshua Garland', 'Mirta Galesic', 'Ibrahim Farouq', 'Graham Tierney', 'D. Sunshine Hillygus', 'Christopher Bail', 'Aleksandra Urman', 'Mykola Makhortykh', 'Stefan Katz', 'Hugo Subtil', 'Arnault Chatelain', 'Felix Lennert', 'Etienne Ollion', 'Rubing Shen', 'Andreas Spitz', 'Jan Nikadon', 'Lejla Dzanko', 'Tomaso Erseghe', 'Caterina Suitner', 'Michał Olech', 'Paweł Jurek', 'Magdalena Formanowicz', 'Yuru Li', 'Szymon Talaga', 'Massimo Stella', 'Trevor James Swanson', 'Andreia Sofia Teixeira', 'Filipi Nascimento Silva', 'Nate Holers', 'Lena Mangold', 'Camille Roth', 'Ferdinand Le Coz', 'Guillaume Cabanac', 'Julien Figeac', 'Federico Barrera-Lemarchand', 'Simon Walo', 'Samsun Knight', 'Yakov Bart', 'Matt Rocklage', 'Ziwen Chen', 'Amir Goldberg', 'Damiano Morando', 'Aidan Combs', 'Xinwei Xu', 'Alessandro Lomi', 'Christoph Stadtfeld', 'Pantelis P Analytis', 'Karthikeya Kaushik', 'Stefan Herzog', 'Bahador Bahrami', 'Ophelia Deroy', 'Zeyu Lyu', 'Zhemeng Xie', 'Takaharu Saito', 'Aguru Ishibashi', 'Mark Wittek', 'Katharina Burgdorf', 'Simone Santoni', 'Juergen Lerner', 'Yiwei Luo', 'Dan Jurafsky', 'Mohammad Amaan Haque', 'Taberez Ahmed Neyazi', 'Roney Reis', 'Angelo Brayner', 'Miguel Souza', 'Edward Abel', 'Sajid Siraj', 'Alexander Sobieska', 'Cheng Pan', 'Maximilian Hampel', 'Pia Gutsmiedl', 'Rosa Weidenspointner', 'Seong-Min Jun', 'Valentin Pauli', 'Matteo Cinelli', 'Carlo Valensise', 'Walter Quattrociocchi', 'Manju Bura', 'Tenzin Tamang', 'Amy Munz', 'Scott A. Hale', 'Kobi Hackenburg', 'Fabián Aguirre-López', 'Miguel A González Casado', 'Angel Sánchez', 'Kangsan Lee', 'Anna Sokolova', 'Haiko Lietz', 'Johann Schaible', 'Maria Zens', 'Marcos A. Oliveira', 'Nicholas Christakis', 'Josefine Bohr Brask', 'Andreas Koher', 'Darren Croft', 'Vedran Sekara', 'Ivan Dotu', 'Manuel Garcia-Herranz', 'Scott Friedman', 'Rense Corten', 'Laura Boeschoten', 'Vsevolod Suschevskiy', 'Lindsay Larson', 'Malte Jung', 'Leslie DeChurch', 'Noshir Contractor', 'Pearl Pandya', 'Leonie Neuhäuser', 'Michael T Schaub', 'Daniel Matter', 'Jürgen Pfeffer', 'Federico Mazzoni', 'Andrea Failla', 'salvatore Citraro', 'Giulio Rossetti', 'Chiara Chiavenna', 'Laura Leone', 'Maria Cucciniello', 'Alessia Melegaro', 'Marcos Oliveira', 'Eyal Perry', 'Micah Epstein', 'Max Lagencamp', 'Irmandy Wicaksono', 'Cathy Fang', 'OcÃ©ane Boulais', 'Ray Funahashi', 'Christian Almenar', 'Gordon Pennycook', 'David Rand', 'Veronica Lachi', 'Gabriele Santin', 'Monica Bianchini', 'Pietro Lio', 'franco scarselli', 'Sahil Loomba', 'Alessio Vincenzo Cardillo', 'Elisabet CarbÃ³ Catalan', 'Javier Borge Holthoefer', 'Diana Roig Sanz', 'Ali Yassin', 'Abbas Haidar', 'Hocine Cherifi', 'Hamida Seba', 'Olivier Togni', 'Elena Pavan', 'Anna Bertani', 'Dan Dai', 'Matthew R DeVerna', 'Kai-Cheng Yang', 'David Axelrod', 'John Bryden', 'Shohei Hisamitsu', 'Sho Cho', 'Hongshan Jin', 'Cameron Lai', 'Mitsuo Yoshida', 'Haoning Xue', 'Jingwen Zhang', 'Qiusi Sun', 'Cuihua Shen', 'Elisabeth Stockinger', 'Carina Ines Hausladen', 'Dorian Quelle', 'Calvin Yixiang Cheng', 'Christiern Santos Rasmussen', 'Amir Ebrahimi Fard', 'Marijn ten Thij', 'Aliaksandr Herasimenka', 'Benedikt Ströbl', 'Kate Joynes-Burgess', 'Samantha Vanderslott', 'Philip Howard', 'Scott A Hale', 'Adriano Belisario', 'Ahmed Nasser Mostafa', 'Sukrit Venkatagiri', 'Ashlyn B. Aske', 'Connor Cantrell', 'Giulio Corsi', 'Luca Rossi', 'Fabio Giglietto', 'Giada Marino', 'Javier Alvarez-Galvez', 'Antonio Rojas-Garcia', 'Ilaria Montagni', 'Ourania Kolokotroni', 'Angelos Kassianos', 'Salim Chouaki', 'Oana Goga', 'Fabio Carrella', 'Shayne Longpre', 'Deb Roy', 'Alejandro Dinkelberg', 'Pádraig Mac Carron', 'Michael Quayle', 'Keeley Erhardt', 'Saurabh Khanna', 'Avi Gamoran', 'Michael Gilead', 'Ke Li', 'Jie Hua', 'Fabian Baumann', 'Agnieszka Czaplicka', 'Tim Faverjon', 'Carlson Moses Büth', 'Anastassia Vybornova', 'Luigi Arminio', 'PJ Lamberson', 'Gülşah Akçakır', 'Chanuwas Aswamenakul', 'Michał‚ Czuba', 'Piotr Bródka', 'Silke Adam', 'Maryna Sydorova', 'Franziska Keller', 'Akrati Saxena', 'George Fletcher', 'Mykola Pechenizkiy', 'Marie Decker', 'Laila Wegner', 'Carmen Leicht-Scholten', 'Anna Seo Gyeong Choi', 'Orestis Papakyriakopoulos', 'Alice Xiang', 'Emma Hoes', 'Peidong Mei', 'Stefan Sarkadi', 'Reid McIlroy-Young', 'Siddhartha Sen', 'Bhargav Srinivasa Desikan', 'James Evans', 'Jeff T Sheng', 'Sima Farokhnejad', 'Eraldo Ribeiro', 'Alberto Amaduzzi', 'Lucila Alvarez-Zuzek', \"Valeria D'Andrea\", 'Filippo Privitera', 'Marta Gonzalez', 'Armando Bazzani', 'Kevin Sparks', 'Christa Brelsford', 'Jesse Piburn', 'Andy Berres', 'Marie Urban', 'Gautam Thakur', 'Tiago Oliveira Cunha', 'Astrid Gühnemann', 'Yan Asadchy', 'Maximilan Schich', 'Ollie Ballinger', 'Sam Heroy', \"Neave O'Clery\", 'Pablo Andres Astudillo', 'Nicola Pedreschi', 'Renaud Lambiotte', 'Fátima Velásquez-Rojas', 'Erjian Liu', 'José Javier Ramasco', 'Gianni Barlacchi', 'Takayuki Mizuno', 'Taizo Horikomi', 'Shouji Fujimoto', 'Atushi Ishikawa', 'Katinka Den Nijs', 'Hasan Alp Boz', 'Mohsen Bahrami', 'Selim Balcisoy', 'Sanggoo Kang', 'Woo-sung Jung', 'Bokányi', 'Adam Finnemann', 'Denny Borsboom', 'Sacha Epskamp', 'Cesar Augusto Marin', 'Jesus Berrios', 'Vittoria Colizza', 'Clodomir Santana', 'Federico Botta', 'Hui Wang', 'Hugo Contreras', 'Rodrigo Troncoso', 'Leonardo Ferres', 'Carlos Rodriguez', 'Justyna Czestochowska', 'Sydney DeMets', 'Inês Terrucha', 'Elias Fernández Domingos', 'Rémi Suchonn', 'Francisco C Santos', 'Pieter Simoens', 'Tom Lenaerts', 'Srishti Vashistha', 'Rosalia Steffi Longjam', 'Rishabh Kaushal', 'Jan-Philipp Rau', 'Philipp Kessling', 'Mingmeng Geng', 'Roberto Trotta', 'Ridhi Kashyap', 'K. Hunter Wapman', 'Allison Christine Morgan', 'Bailey Fosdick', 'Munjung Kim', 'Ana María Jaramillo', 'Lili Miao', 'Clara Boothby', 'Attila Varga', 'Xiaoran Yan', 'Stasa Milojevic', 'Alessandro Flamini', 'Tongyu Ding', 'Qing Ke', 'Indraneel Mane', 'Louis M Shekhtman', 'Daniel Scott Smith', 'Xiang Ren', 'Hancheng Cao', 'Sanne Smith', 'Daniel A. McFarland', 'Shahan Ali Memon', 'Victor Landaeta', 'Cecilia Monge', 'Tamara Yaikin', 'Robin Delabays', 'Melvyn Tyloo', 'Frank Berthold', 'Christoph Bartenhagen', 'Ana Maria Jaramillo', 'Xiaohui WANG', 'Wen Hao HE', 'Han Zheng', 'Jonathan Zhu', 'Kevin Munger', 'Drew Dimmery', 'Yizhou Fan', 'Kaixiang Kang', 'NAKAO Ran', 'Alexandra Florea', 'Lea Biere', 'Ilona Horwath', 'Silvia Ioana Fierăscu', 'Saumya Tripathi', 'Telmo Menezes', 'Antonin Pottier', 'Margarita Torre', 'Jesús A. Prieto-Alonso', 'Iñaki Ucar', 'Taekho You', 'Jinseo Park', 'June Young Lee', 'Jinhyuk Yun', 'Oliver Baumann', 'Yevgeniy Golovchenko', 'Karolina Stanczak', 'Rebecca Adler-Nissen', 'Patrice Wangen', 'Zhixuan Zhou', 'Jiao Sun', 'Nanyun Peng', 'Jinjun Xiong', 'Yang Wang', 'Giyeon Baek', 'Enshu Cheng', 'Ramesh Jagannathan', 'Pablo Hernández-Lagos', 'David Joyner', 'Mingjing Yin', 'Carolina Coimbra Vieira', 'Marisa Vasconcelos', 'Ebru Sanliturk', 'Daniele Rama', 'Miriam Redi', 'Shintaro Sakai', 'Yasuhiro Suzuki', 'Thomas Franz Müller', 'James Winters', 'Niccolo Pescetelli', 'Federico Pilati', 'Oriol Artime', 'Pier Luigi Sacco', 'Aidar Zinnatullin', 'Fredrik Jansson', 'Isabel Sebire', 'Valerii Chirkov', 'Sara Bonati', 'Maxim Derex', 'Anne-Marie Nussberger', 'Daniel Torren Peraire', 'Ivan Savin', 'Hyeseung Shim', 'Jihoon Kim', 'Jaehong Ahn', 'Chung-Kon Shi', 'Christoph Kern', 'Rob Chew', 'Jacob Beck', 'Stephanie Eckman', 'Frauke Kreuter', 'Narayani Vedam', 'Huiyi Lv', 'Stephen Davies', 'Ahmad Hesam', 'Zaid Al-Ars', 'Fons Rademakers', 'Frank Pijpers', 'Jason Hiigh Thompson', 'Paul Salmon', 'Chris Baber', 'Scott McClean', 'Gemma Read', 'Tony Carden', 'Neville Stanton', 'Michael Inzlicht', 'Kristina Aleksandrovna Pedersen', 'Jonas Raaschou-Pedersen', 'Anna Rogers', 'Kun He', 'Qianru Meng', 'Xiao Zhang', 'Neeley Pate', 'Inga Trauthig', 'Samuel Woolley', 'Anna Di Natale', 'Shatayu Kulkarni', 'Theresa Henn', 'Sarah Tell', 'Julian Polenz', 'Oliver Posegga', 'Lama Abdulrahman Alqazlan', 'Andrea W Wang', 'David Mimno', 'Francisco Olivos', 'Ana Alonso Curbelo', 'Shintaro Ueki', 'Toshiharu Sugawara', 'Moena Hashimoto', 'Yotaro Takazawa', 'Linda Coufal', 'Lion Wedel', 'Priyanshi Sharma', 'Somya Tomar', 'Disha Saini', 'Fabian Braesemann', 'Alexandra Rottenkolber', 'Vadim Voskresenskii', 'Paulina Bondaronek', 'Daniela Valdes', 'Juan Carlos Rocha', 'Victor Galaz', 'Silvia Leoni', 'Andrea Gentili', 'Hiu Sze Chan', 'Doug Beeferman', 'Cassandra Overney', 'Christine Vega Pourheydarian', 'Kumar Chandra', 'Frank Pantano', 'George Bikhazi', 'Takayuki Uchiba', 'Haewoon Kwak', 'Jisun An', 'Sota Watanabe', 'Genki Ichinose', 'Catalina Vajiac', 'Arun Frey', 'Abby Smith', 'Junran Yang', 'Denis Bonnay', 'Juhi Kulshrestha', 'Kazuhiro Seki', 'Lisette Espin Noboa', 'Serine Ramlawi', 'Daniel J Corsi', 'Timothy Douglas', 'Licia Capra', 'Mirco Musolesi', 'Huiyi Lyu', 'Ayan-Yue Gupta', 'Saeedeh Mohammadi', 'Gabriela Juncosa', 'Margaret Samahita', 'Taha Yasseri', 'Dennis Assenmacher', 'Leon Fröhling', 'Claudia Wagner', 'Andrés Gvirtz', 'Matteo Montecchi', 'Amy Selby', 'Friedrich Götz', 'Sujan Dutta', 'Beibei Li', 'Daniel Nagin', 'Ashiqur R KhudaBukhsh', 'Indira Sen', 'Mattia Samory', 'Ollin Demian Langle-Chimal', 'Max Pellert', 'Hannah Metzler', 'Michael Matzenberger', 'Dongwoo Lim', 'Mikihito Tanaka', 'Sagar Joglekar', 'Varun Tandon', 'Vrushabh Vilas Wadnere', 'Michael Vincent Arnold', 'Peter Dodds', 'Sanja Šćepanović', 'Jason Rentfrow', 'Gabriele Etta', 'Michele Avalle', 'Matthew DeVerna', 'Rachith Aiyappa', 'Diogo Pachecho', 'Clara Vandeweerdt', 'Suyash Fulay', 'Jisu Kim', 'Alina Sîrbu', 'Fosca Giannotti', 'Hillel Rapoport', 'Katharina Lawall', 'Hendrik Erz', 'Alejandro Hermida Carrillo', 'Alfredo Hernandez Sanchez', 'Nicholas J Pangakis', 'Samuel Wolken', 'Neil Fasching', 'Sami Alexej Nenno', 'Yiyan Zhang', 'Qin Li', 'Ruhao Liu', 'Zishan Lan', 'Xiaoya Chen', 'Tobin South', 'Guy Zyskind', 'Clemens M. Lechner', 'Beatrice Rammstedt', 'Vera Sosnovik', 'Linda Li', 'Balazs Vedres', 'Orsolya Vasarhelyi', 'Marieke Van Hoof', 'Corine Meppelink', 'Fan Liang', 'Yuchen Cao', 'Zsófia Rakovics', 'Márton Rakovics', 'Yan Xia', 'Antti Gronow', 'Arttu Malkamäki', 'Tuomas Ylä-Anttila', 'Pablo Moral', 'Huma Rasheed', 'Casey Randazzo', 'Melissa J Dreier', 'Akeela Careem', 'Li Liao', 'Wenna Chen', 'Sawa Yoshioka', 'Anne C Kroon', 'Rens Vliegenthart', 'Jeroen Jonkman', 'Shaun Bevan', 'Christoffer Green-Pedersen', 'Alessia Antelmi', 'Daniele De Vinco', 'Carmine Spagnuolo', 'Gennaro Cordasco', 'Duilio Balsamo', 'Jakob Schlierf', 'Lui Ruck', 'Jacob R Brown', 'Enrico Cantoni', 'Sahil Chinoy', 'Martin Koenen', 'Vincent Pons', 'Khalid K Osman', 'Florian Barbaro', 'Andy Skumanich', 'Roberto Ulloa', 'Layla Bouzoubaa', 'Shadi Rezapour', 'Denis E Hudon', 'Mohamed Abouelenien', 'Mihai Burzo', 'Rada Mihalcea', 'Yelena Mejova', 'Anya Hommadova Lu', 'Karim Hamade', 'Belén C Saldías Fuentes', 'Dimitra Dimitrakopoulou', 'Savvas Zannettou', 'Tornike Tsereteli', 'Simone Paolo Ponzetto', 'Zexun Chen', 'Sean Kelty', 'Alexandre Evsukoff', 'Brooke Foucault Welles', 'James Bagrow', 'Sonja M Schmer Galunder', 'Gwyneth Sutherlin', 'Adam H. Russell', 'Akira Tsurushima', 'Piyush Ghasiya', 'Balaraju Battu', 'Renzo Bianchi', 'Debora Nozza', 'Francesco Barbieri', 'Sharon Kang', 'Nguyen Luong', 'Ian Barnett', 'Amirhossein Nakhaei', 'Jiani Yan', 'Toshiya Saito', 'Athina Anastasiadou', 'Artem Volgin', 'Douglas Leasure', 'Mohammad Atari', 'Nour Kteily', 'Masanori Hirano', 'Kiyoshi Izumi', 'Veronika Batzdorfer', 'Julia Huschens', 'Holger Steinmetz', 'Laura Casanovas Buliart', 'Priscila Alvarez-Cueva', 'Carlos Castillo', 'Karmanya Aggarwal', 'Baird Howland', 'Mareike Wieland', 'Gerret von Nordheim', 'Katharina Kleinen', 'Luiz Neves', 'Xuanjun Jason Gong', 'Likun Cao', 'Qiankun Zhong', 'Kenjiro Inoue', 'Michelangelo Rossi', 'Tommaso Bondi', 'Ryan Louis Stevens', 'Samar Haider', 'Chris Callison-Burch', 'Lin Ai', 'Yu-Wen Chen', 'Yuwen Yu', 'Seoyoung Kweon', 'Julia Hirschberg', 'Sarah Ita Levitan', 'Eladio Montero-Porras', 'Jelena Grujić', 'Navya Suri', 'Abdullah Zameek', 'Elizaveta Chernenko', 'Delphine De Moor', 'Jordan Hart', 'Camille Testard', 'Alex Mielke', 'Alba Motes Rodrigo', 'Dan Franks', 'Matthew Silk', 'Hikaru Asano', 'Osamu Sakura', 'Cornelius Puschmann', 'Katrin Weller', 'Ronald E. Robertson', 'Amy Dunphy', 'Shelby Grossman', 'Shotaro Ishihara', 'Hiromu Takahashi', 'Hono Shirai', 'Roman Kyrychenko', 'Darko Stojilovic', 'Hal Ashton', 'Bertram Malle', 'Vanessa Cheung', 'Srdja Dragovic', 'Johannes Ross', 'Vera Rocha', 'Tom Grad', 'Jörg Claussen', 'Lynn Smith-Lovin', 'Alexandros Gelastopoulos', 'Pantelis Analytis', 'Gaël Le Mens', 'Arnout van de Rijt', 'Mahnaz Roshanaei', 'Sumer Vaid', 'Andrea Leigh Courtney', 'Serena Jimyn Soh', 'Jamil Zaki', 'Gabriella Harari', 'Coen D Needell', 'Elliot Pickens', 'David M Rothschild', 'Anna George', 'Ana Valdivia', 'Sandra Gonzalez-Bailón', 'Martin Ardvisson', 'Kokil Jaidka', 'Yunkyu Sohn', 'Alexander Gates', 'Piotr Sapiezynski', 'Pantelis Pipergias Analytis', 'Maximilian Schich', 'Kelton Minor']\n"
     ]
    }
   ],
   "source": [
    "# Find all the names of the chairs\n",
    "headers = soup.find_all(\"h2\")\n",
    "for header in headers:\n",
    "    text = header.find(\"i\")\n",
    "    if (text is not None):\n",
    "        seperated_name = text.text.split(\": \")\n",
    "        if (seperated_name[1].strip() not in names):\n",
    "            names.append(seperated_name[1].strip())\n",
    "print(len(names))\n",
    "\n",
    "# Define the name finding as a function for later use\n",
    "def get_researcher_names():\n",
    "    # Define variables and collect content\n",
    "    LINK = \"https://ic2s2-2023.org/program\"\n",
    "    r = requests.get(LINK)\n",
    "    soup = BeautifulSoup(r.content)\n",
    "    # Find all the names from the top table\n",
    "    names = []\n",
    "    # Find all the table rows\n",
    "    table = soup.find(\"table\", class_=\"summary\")\n",
    "    table_rows = soup.find_all(\"tr\")\n",
    "    for tr in table_rows:\n",
    "        tds = tr.find_all(\"td\")\n",
    "        for row in tds:\n",
    "            a = row.find_all(\"a\")\n",
    "            for text in a:\n",
    "                text_content = text.text\n",
    "                if (\"Keynote\" in text_content):\n",
    "                    text_split = text_content.split(\"-\")\n",
    "                    stripped = text_split[1].strip()\n",
    "                    if (stripped not in names):\n",
    "                        names.append(stripped)\n",
    "    \n",
    "    # Find all the names from the bottom lists\n",
    "    # Find all the unordered lists\n",
    "    ul = soup.find_all(\"ul\", class_=\"nav_list\")\n",
    "    # Find all the list elements\n",
    "    for list in ul:\n",
    "        found_names = list.find_all(\"i\")\n",
    "        # For every found name line, seperate into individual names\n",
    "        for name in found_names:\n",
    "            found_names_seperated = name.text.split(\", \")\n",
    "            for seperated_name in found_names_seperated:\n",
    "                if (seperated_name.strip() not in names):\n",
    "                    names.append(seperated_name.strip())\n",
    "    \n",
    "    # Find all the names of the chairs\n",
    "    headers = soup.find_all(\"h2\")\n",
    "    for header in headers:\n",
    "        text = header.find(\"i\")\n",
    "        if (text is not None):\n",
    "            seperated_name = text.text.split(\": \")\n",
    "            if (seperated_name[1].strip() not in names):\n",
    "                names.append(seperated_name[1].strip())"
   ]
  }
 ],
 "metadata": {
  "anaconda-cloud": {},
  "kernelspec": {
   "display_name": "Python 3 (ipykernel)",
   "language": "python",
   "name": "python3"
  },
  "language_info": {
   "codemirror_mode": {
    "name": "ipython",
    "version": 3
   },
   "file_extension": ".py",
   "mimetype": "text/x-python",
   "name": "python",
   "nbconvert_exporter": "python",
   "pygments_lexer": "ipython3",
   "version": "3.10.11"
  },
  "vscode": {
   "interpreter": {
    "hash": "b0fa6594d8f4cbf19f97940f81e996739fb7646882a419484c72d19e05852a7e"
   }
  }
 },
 "nbformat": 4,
 "nbformat_minor": 4
}
